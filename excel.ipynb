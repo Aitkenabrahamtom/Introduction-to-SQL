{
  "nbformat": 4,
  "nbformat_minor": 0,
  "metadata": {
    "colab": {
      "name": "Untitled5.ipynb",
      "provenance": [],
      "authorship_tag": "ABX9TyM42g8J+2lOChwN5/m0JpTQ",
      "include_colab_link": true
    },
    "kernelspec": {
      "name": "python3",
      "display_name": "Python 3"
    },
    "language_info": {
      "name": "python"
    }
  },
  "cells": [
    {
      "cell_type": "markdown",
      "metadata": {
        "id": "view-in-github",
        "colab_type": "text"
      },
      "source": [
        "<a href=\"https://colab.research.google.com/github/Aitkenabrahamtom/Introduction-to-SQL/blob/main/excel.ipynb\" target=\"_parent\"><img src=\"https://colab.research.google.com/assets/colab-badge.svg\" alt=\"Open In Colab\"/></a>"
      ]
    },
    {
      "cell_type": "code",
      "execution_count": 1,
      "metadata": {
        "id": "YL3VpHgInpHj"
      },
      "outputs": [],
      "source": [
        "import numpy as np"
      ]
    },
    {
      "cell_type": "code",
      "source": [
        "x = np.array([205,202,193,166,180,160,157,147,157,127,133.09,133.08]) \n",
        "y = np.array([1,2,3,4,5,6,7,8,9,10,11,12])"
      ],
      "metadata": {
        "id": "HSWxkRm5nypB"
      },
      "execution_count": 68,
      "outputs": []
    },
    {
      "cell_type": "code",
      "source": [
        "# Find Xdash \n",
        "x_dash = np.mean(x)"
      ],
      "metadata": {
        "id": "mFlZj1DIoZUa"
      },
      "execution_count": 47,
      "outputs": []
    },
    {
      "cell_type": "code",
      "source": [
        "x_dash"
      ],
      "metadata": {
        "colab": {
          "base_uri": "https://localhost:8080/"
        },
        "id": "9uWi8Nobopsh",
        "outputId": "d7b1b13e-8628-4899-e731-80edb9df652d"
      },
      "execution_count": 48,
      "outputs": [
        {
          "output_type": "execute_result",
          "data": {
            "text/plain": [
              "163.3475"
            ]
          },
          "metadata": {},
          "execution_count": 48
        }
      ]
    },
    {
      "cell_type": "code",
      "source": [
        "y_dash = np.mean(y)"
      ],
      "metadata": {
        "id": "ciiG7TXTo5BB"
      },
      "execution_count": 49,
      "outputs": []
    },
    {
      "cell_type": "code",
      "source": [
        "P = (x-x_dash) * (y-y_dash)"
      ],
      "metadata": {
        "id": "KWhs6MO_pC3q"
      },
      "execution_count": 50,
      "outputs": []
    },
    {
      "cell_type": "code",
      "source": [
        "num = sum(P)"
      ],
      "metadata": {
        "id": "08zTzIEEpoxo"
      },
      "execution_count": 51,
      "outputs": []
    },
    {
      "cell_type": "code",
      "source": [
        "num"
      ],
      "metadata": {
        "colab": {
          "base_uri": "https://localhost:8080/"
        },
        "id": "UDjPmL6Ap9Rk",
        "outputId": "27303f33-4f9e-453f-d959-dbbc2c5dec55"
      },
      "execution_count": 52,
      "outputs": [
        {
          "output_type": "execute_result",
          "data": {
            "text/plain": [
              "-1010.1549999999999"
            ]
          },
          "metadata": {},
          "execution_count": 52
        }
      ]
    },
    {
      "cell_type": "code",
      "source": [
        "Q = (x-x_dash)*(x-x_dash)"
      ],
      "metadata": {
        "id": "5cou6BisqcMd"
      },
      "execution_count": 53,
      "outputs": []
    },
    {
      "cell_type": "code",
      "source": [
        "den = sum(Q)"
      ],
      "metadata": {
        "id": "XAEK1Awfs3SA"
      },
      "execution_count": 54,
      "outputs": []
    },
    {
      "cell_type": "code",
      "source": [
        "m= num/den"
      ],
      "metadata": {
        "id": "zL8e8ytbs6PX"
      },
      "execution_count": 55,
      "outputs": []
    },
    {
      "cell_type": "code",
      "source": [
        "m"
      ],
      "metadata": {
        "colab": {
          "base_uri": "https://localhost:8080/"
        },
        "id": "5q_zGIVzs8hX",
        "outputId": "7569858c-dce5-4b72-f239-f649321b5db7"
      },
      "execution_count": 56,
      "outputs": [
        {
          "output_type": "execute_result",
          "data": {
            "text/plain": [
              "-0.12779710270037267"
            ]
          },
          "metadata": {},
          "execution_count": 56
        }
      ]
    },
    {
      "cell_type": "code",
      "source": [
        "c=y_dash - m* x_dash"
      ],
      "metadata": {
        "id": "P29eQW0_s-Sn"
      },
      "execution_count": 57,
      "outputs": []
    },
    {
      "cell_type": "code",
      "source": [
        "Ynew=m*x + c"
      ],
      "metadata": {
        "id": "eorgwXgvtEY3"
      },
      "execution_count": 58,
      "outputs": []
    },
    {
      "cell_type": "code",
      "source": [
        "Ynew"
      ],
      "metadata": {
        "colab": {
          "base_uri": "https://localhost:8080/"
        },
        "id": "ItA7B3W2tGIW",
        "outputId": "b95fcfa7-12ff-419d-dd7c-cfd83e3b1760"
      },
      "execution_count": 59,
      "outputs": [
        {
          "output_type": "execute_result",
          "data": {
            "text/plain": [
              "array([ 1.17693118,  1.56032249,  2.71049641,  6.16101819,  4.37185875,\n",
              "        6.9278008 ,  7.31119211,  8.58916314,  7.31119211, 11.14510519,\n",
              "       10.36682083, 10.36809881])"
            ]
          },
          "metadata": {},
          "execution_count": 59
        }
      ]
    },
    {
      "cell_type": "code",
      "source": [
        "import matplotlib.pyplot as plt"
      ],
      "metadata": {
        "id": "tFtbRwJVtHrO"
      },
      "execution_count": 60,
      "outputs": []
    },
    {
      "cell_type": "code",
      "source": [
        "plt.scatter(x,y)"
      ],
      "metadata": {
        "colab": {
          "base_uri": "https://localhost:8080/",
          "height": 283
        },
        "id": "En2ZEDcitJlO",
        "outputId": "e5249bfe-3d43-4d7e-ddb5-170a05f6345c"
      },
      "execution_count": 61,
      "outputs": [
        {
          "output_type": "execute_result",
          "data": {
            "text/plain": [
              "<matplotlib.collections.PathCollection at 0x7f2ba05c3610>"
            ]
          },
          "metadata": {},
          "execution_count": 61
        },
        {
          "output_type": "display_data",
          "data": {
            "text/plain": [
              "<Figure size 432x288 with 1 Axes>"
            ],
            "image/png": "[encoded data removed]"
          },
          "metadata": {
            "needs_background": "light"
          }
        }
      ]
    },
    {
      "cell_type": "code",
      "source": [
        "plt.scatter(x,y)\n",
        "plt.plot(x,Ynew)"
      ],
      "metadata": {
        "colab": {
          "base_uri": "https://localhost:8080/",
          "height": 283
        },
        "id": "Y4obr7hztOUu",
        "outputId": "28d48539-5908-4287-c1d7-04a19492ede5"
      },
      "execution_count": 62,
      "outputs": [
        {
          "output_type": "execute_result",
          "data": {
            "text/plain": [
              "[<matplotlib.lines.Line2D at 0x7f2ba045d450>]"
            ]
          },
          "metadata": {},
          "execution_count": 62
        },
        {
          "output_type": "display_data",
          "data": {
            "text/plain": [
              "<Figure size 432x288 with 1 Axes>"
            ],
            "image/png": "[encoded data removed]"
          },
          "metadata": {
            "needs_background": "light"
          }
        }
      ]
    },
    {
      "cell_type": "code",
      "source": [
        "y=m*7+c\n",
        "y"
      ],
      "metadata": {
        "colab": {
          "base_uri": "https://localhost:8080/"
        },
        "id": "dxFajj3etouo",
        "outputId": "9fadcda1-cbb0-41ad-e448-e64d4d54f8ee"
      },
      "execution_count": 63,
      "outputs": [
        {
          "output_type": "execute_result",
          "data": {
            "text/plain": [
              "26.480757514446516"
            ]
          },
          "metadata": {},
          "execution_count": 63
        }
      ]
    },
    {
      "cell_type": "code",
      "source": [
        "x = np.array([205,202,193,166,180,160,157,147,157,127,133.09,133.08]) \n",
        "y = np.array([1,2,3,4,5,6,7,8,9,10,11,12])"
      ],
      "metadata": {
        "id": "ZiuYw0Lxtsso"
      },
      "execution_count": 64,
      "outputs": []
    },
    {
      "cell_type": "code",
      "source": [
        "n = np.size(x)"
      ],
      "metadata": {
        "id": "icj0ydLQuULW"
      },
      "execution_count": 65,
      "outputs": []
    },
    {
      "cell_type": "code",
      "source": [
        "n"
      ],
      "metadata": {
        "colab": {
          "base_uri": "https://localhost:8080/"
        },
        "id": "Qdm7xBZQuWR2",
        "outputId": "6c11f7f9-0c58-45d2-8870-4fb849b14fa0"
      },
      "execution_count": 66,
      "outputs": [
        {
          "output_type": "execute_result",
          "data": {
            "text/plain": [
              "12"
            ]
          },
          "metadata": {},
          "execution_count": 66
        }
      ]
    },
    {
      "cell_type": "code",
      "source": [
        "x_mean = np.mean(x)\n",
        "y_mean = np.mean(y)\n",
        "x_mean,y_mean"
      ],
      "metadata": {
        "colab": {
          "base_uri": "https://localhost:8080/"
        },
        "id": "plstu4XduYFe",
        "outputId": "94e6111a-42ef-48b9-da41-bf29094e21f5"
      },
      "execution_count": 67,
      "outputs": [
        {
          "output_type": "execute_result",
          "data": {
            "text/plain": [
              "(163.3475, 6.5)"
            ]
          },
          "metadata": {},
          "execution_count": 67
        }
      ]
    },
    {
      "cell_type": "code",
      "source": [
        "num = (n*np.sum(x*y))-(np.sum(x)*np.sum(y))"
      ],
      "metadata": {
        "id": "mkslCrSduhPJ"
      },
      "execution_count": 40,
      "outputs": []
    },
    {
      "cell_type": "code",
      "source": [
        "num"
      ],
      "metadata": {
        "colab": {
          "base_uri": "https://localhost:8080/"
        },
        "id": "hGJssYZ3u8r4",
        "outputId": "84ee2546-0412-48dd-8829-a73f7130a2d0"
      },
      "execution_count": 41,
      "outputs": [
        {
          "output_type": "execute_result",
          "data": {
            "text/plain": [
              "-12121.859999999957"
            ]
          },
          "metadata": {},
          "execution_count": 41
        }
      ]
    },
    {
      "cell_type": "code",
      "source": [
        "den= (n*np.sum(x*x))- (np.sum(x)*np.sum(x))"
      ],
      "metadata": {
        "id": "T0QOkZVgu_Fx"
      },
      "execution_count": 42,
      "outputs": []
    },
    {
      "cell_type": "code",
      "source": [
        "m=num/den"
      ],
      "metadata": {
        "id": "ZCyGdBXavBlA"
      },
      "execution_count": 43,
      "outputs": []
    },
    {
      "cell_type": "code",
      "source": [
        "m"
      ],
      "metadata": {
        "colab": {
          "base_uri": "https://localhost:8080/"
        },
        "id": "dxLkbeMYvDTR",
        "outputId": "296878ee-dec6-4ded-9625-5016e56e980c"
      },
      "execution_count": 44,
      "outputs": [
        {
          "output_type": "execute_result",
          "data": {
            "text/plain": [
              "-0.12779710270037214"
            ]
          },
          "metadata": {},
          "execution_count": 44
        }
      ]
    },
    {
      "cell_type": "code",
      "source": [
        "c=y_mean-m*x_mean"
      ],
      "metadata": {
        "id": "-OeB7rWJvFa4"
      },
      "execution_count": 45,
      "outputs": []
    },
    {
      "cell_type": "code",
      "source": [
        "c"
      ],
      "metadata": {
        "colab": {
          "base_uri": "https://localhost:8080/"
        },
        "id": "fdldph4ivH-K",
        "outputId": "f3abe513-33be-4eb8-b7c1-16c6a8f8513c"
      },
      "execution_count": 32,
      "outputs": [
        {
          "output_type": "execute_result",
          "data": {
            "text/plain": [
              "5.399999999999999"
            ]
          },
          "metadata": {},
          "execution_count": 32
        }
      ]
    },
    {
      "cell_type": "code",
      "source": [
        "ynew=m*x+c"
      ],
      "metadata": {
        "id": "z0TS-GC1vJzI"
      },
      "execution_count": 46,
      "outputs": []
    },
    {
      "cell_type": "code",
      "source": [
        "ynew"
      ],
      "metadata": {
        "colab": {
          "base_uri": "https://localhost:8080/"
        },
        "id": "NT5ubQ1BvccZ",
        "outputId": "d555af73-674b-4471-d9df-249432b0470a"
      },
      "execution_count": 69,
      "outputs": [
        {
          "output_type": "execute_result",
          "data": {
            "text/plain": [
              "array([ 1.17693118,  1.56032249,  2.71049641,  6.16101819,  4.37185875,\n",
              "        6.9278008 ,  7.31119211,  8.58916314,  7.31119211, 11.14510519,\n",
              "       10.36682083, 10.36809881])"
            ]
          },
          "metadata": {},
          "execution_count": 69
        }
      ]
    },
    {
      "cell_type": "code",
      "source": [
        "y_dash"
      ],
      "metadata": {
        "colab": {
          "base_uri": "https://localhost:8080/"
        },
        "id": "hAAKrU2n2utK",
        "outputId": "8097644a-7bf6-42ff-8953-a563cfd2f541"
      },
      "execution_count": 70,
      "outputs": [
        {
          "output_type": "execute_result",
          "data": {
            "text/plain": [
              "6.5"
            ]
          },
          "metadata": {},
          "execution_count": 70
        }
      ]
    },
    {
      "cell_type": "code",
      "source": [
        ""
      ],
      "metadata": {
        "id": "Yv7fMZmi2wvK"
      },
      "execution_count": null,
      "outputs": []
    }
  ]
}